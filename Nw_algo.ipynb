{
 "cells": [
  {
   "cell_type": "code",
   "execution_count": 1,
   "id": "cced1ad8-e215-4943-bb99-9826509f55cc",
   "metadata": {},
   "outputs": [],
   "source": [
    "import matplotlib.pyplot as plt\n",
    "import numpy as np"
   ]
  },
  {
   "cell_type": "code",
   "execution_count": 2,
   "id": "f1c3227c-990f-425e-9440-b615bf22261d",
   "metadata": {},
   "outputs": [],
   "source": [
    "def glal(A,B,match=2,mismatch=-1,gap=-2):\n",
    "    n=len(A)\n",
    "    m=len(B)\n",
    "    F=np.zeros((n+1,m+1),dtype=int)\n",
    "    trace_back_temp = np.zeros((n+1,m+1), dtype='object')\n",
    "    trace_back = np.zeros((n+1,m+1), dtype='object')\n",
    "    trace_back[:] = ''\n",
    "\n",
    "    for i in range (0,m+1):\n",
    "        F[0,i]=i*gap\n",
    "    for j in range(0, n + 1):\n",
    "        F[j, 0] = j * gap\n",
    "\n",
    "    # Calculating F matrix and trace_back_temp matrix\n",
    "    for i in range (1,n+1):\n",
    "        for j in range (1,m+1):\n",
    "            if A[i-1]==B[j-1]:\n",
    "                d=F[i-1,j-1]+match\n",
    "            else:\n",
    "                d=F[i-1,j-1]+mismatch\n",
    "            up=F[i-1,j]+gap\n",
    "            left=F[i,j-1]+gap\n",
    "            F[i,j]=max(d,up,left)\n",
    "\n",
    "            if F[i,j]==d:\n",
    "                trace_back_temp[i,j]='D'\n",
    "            elif F[i,j]==up:\n",
    "                trace_back_temp[i,j]='U'\n",
    "            else:\n",
    "                trace_back_temp[i,j]='L'\n",
    "\n",
    "    # Trace back\n",
    "    i=n\n",
    "    j=m\n",
    "    resA=\"\"\n",
    "    resB=\"\"\n",
    "    while j>0 and i>0:\n",
    "        if trace_back_temp[i,j]=='D':\n",
    "            trace_back[i,j]='D'\n",
    "            resA=A[i-1]+resA\n",
    "            resB = B[j - 1] + resB\n",
    "            i-=1\n",
    "            j-=1\n",
    "        elif trace_back_temp[i,j]=='L':\n",
    "            trace_back[i, j] = 'L'\n",
    "            resA = \"-\" + resA\n",
    "            resB = B[j - 1] + resB\n",
    "            j -= 1\n",
    "        else:\n",
    "            trace_back[i, j] = 'U'\n",
    "            resB = \"-\" + resB\n",
    "            resA = A[i - 1] + resA\n",
    "            i -= 1\n",
    "\n",
    "    return F,trace_back,resA,resB,F[n,m]"
   ]
  },
  {
   "cell_type": "code",
   "execution_count": 3,
   "id": "bec4c4b2-b143-4ac2-a1df-0ec14012ef73",
   "metadata": {},
   "outputs": [],
   "source": [
    "def permutations_score(seq1,seq2,original_score,match=2,mismatch=-1,gap=-2):\n",
    "    per_scores=[]\n",
    "    count=0\n",
    "    sim=10000\n",
    "    for i in range (1,sim):\n",
    "        permutation1 = ''.join(np.random.permutation(list(seq1)))\n",
    "        permutation2 = ''.join(np.random.permutation(list(seq2)))\n",
    "        F, trace_back, align1, align2, score=glal(permutation1,permutation2,match,mismatch,gap)\n",
    "        per_scores.append(score)\n",
    "        if score >= original_score:\n",
    "            count+=1\n",
    "\n",
    "    p_value=count/sim\n",
    "    print(count)\n",
    "    return p_value,per_scores"
   ]
  },
  {
   "cell_type": "code",
   "execution_count": 4,
   "id": "3076e9ee-af83-4db7-9fb5-658149c4fd58",
   "metadata": {},
   "outputs": [
    {
     "name": "stdout",
     "output_type": "stream",
     "text": [
      "seqA =  AGGCT\n",
      "seqB =  AGCCAT\n",
      "F matrix:\n",
      " [[  0  -2  -4  -6  -8 -10 -12]\n",
      " [ -2   2   0  -2  -4  -6  -8]\n",
      " [ -4   0   4   2   0  -2  -4]\n",
      " [ -6  -2   2   3   1  -1  -3]\n",
      " [ -8  -4   0   4   5   3   1]\n",
      " [-10  -6  -2   2   3   4   5]]\n",
      "Trace back:\n",
      " [['' '' '' '' '' '' '']\n",
      " ['' 'D' '' '' '' '' '']\n",
      " ['' '' 'D' '' '' '' '']\n",
      " ['' '' '' 'D' '' '' '']\n",
      " ['' '' '' '' 'D' 'L' '']\n",
      " ['' '' '' '' '' '' 'D']]\n",
      "Alignment:\n",
      " AGGC-T \n",
      " AGCCAT\n",
      "Score:\n",
      " 5\n"
     ]
    }
   ],
   "source": [
    "seq1='AGGCT'\n",
    "seq2='AGCCAT'\n",
    "F, trace_back, align1, align2, score = glal(seq1, seq2)\n",
    "print(\"seqA = \",seq1)\n",
    "print(\"seqB = \",seq2)\n",
    "print(\"F matrix:\\n\", F)\n",
    "print(\"Trace back:\\n\", trace_back)\n",
    "print(\"Alignment:\\n\", align1, \"\\n\", align2)\n",
    "print(\"Score:\\n\", score)"
   ]
  },
  {
   "cell_type": "code",
   "execution_count": 5,
   "id": "7c62a9d3-1bdc-4933-aab1-56a277e210f9",
   "metadata": {},
   "outputs": [
    {
     "name": "stdout",
     "output_type": "stream",
     "text": [
      "seqA =  GAATTCAGTTA\n",
      "seqB =  GGATCGTTA\n",
      "F matrix:\n",
      " [[  0  -2  -4  -6  -8 -10 -12 -14 -16 -18]\n",
      " [ -2   2   0  -2  -4  -6  -8 -10 -12 -14]\n",
      " [ -4   0   1   2   0  -2  -4  -6  -8 -10]\n",
      " [ -6  -2  -1   3   1  -1  -3  -5  -7  -6]\n",
      " [ -8  -4  -3   1   5   3   1  -1  -3  -5]\n",
      " [-10  -6  -5  -1   3   4   2   3   1  -1]\n",
      " [-12  -8  -7  -3   1   5   3   1   2   0]\n",
      " [-14 -10  -9  -5  -1   3   4   2   0   4]\n",
      " [-16 -12  -8  -7  -3   1   5   3   1   2]\n",
      " [-18 -14 -10  -9  -5  -1   3   7   5   3]\n",
      " [-20 -16 -12 -11  -7  -3   1   5   9   7]\n",
      " [-22 -18 -14 -10  -9  -5  -1   3   7  11]]\n",
      "Trace back:\n",
      " [['' '' '' '' '' '' '' '' '' '']\n",
      " ['' 'D' '' '' '' '' '' '' '' '']\n",
      " ['' '' 'D' '' '' '' '' '' '' '']\n",
      " ['' '' '' 'D' '' '' '' '' '' '']\n",
      " ['' '' '' 'U' '' '' '' '' '' '']\n",
      " ['' '' '' '' 'D' '' '' '' '' '']\n",
      " ['' '' '' '' '' 'D' '' '' '' '']\n",
      " ['' '' '' '' '' 'U' '' '' '' '']\n",
      " ['' '' '' '' '' '' 'D' '' '' '']\n",
      " ['' '' '' '' '' '' '' 'D' '' '']\n",
      " ['' '' '' '' '' '' '' '' 'D' '']\n",
      " ['' '' '' '' '' '' '' '' '' 'D']]\n",
      "Alignment:\n",
      " GAATTCAGTTA \n",
      " GGA-TC-GTTA\n",
      "Score:\n",
      " 11\n"
     ]
    }
   ],
   "source": [
    "seq1 = 'GAATTCAGTTA'\n",
    "seq2 = 'GGATCGTTA'\n",
    "F, trace_back, align1, align2, score = glal(seq1, seq2)\n",
    "F, trace_back, align1, align2, score = glal(seq1, seq2)\n",
    "print(\"seqA = \",seq1)\n",
    "print(\"seqB = \",seq2)\n",
    "print(\"F matrix:\\n\", F)\n",
    "print(\"Trace back:\\n\", trace_back)\n",
    "print(\"Alignment:\\n\", align1, \"\\n\", align2)\n",
    "print(\"Score:\\n\", score)"
   ]
  },
  {
   "cell_type": "code",
   "execution_count": 6,
   "id": "a15d7aeb-6373-4dd0-80f7-359a4529eac3",
   "metadata": {},
   "outputs": [
    {
     "name": "stdout",
     "output_type": "stream",
     "text": [
      "48\n",
      "The p-value is 0.0048\n"
     ]
    },
    {
     "data": {
      "image/png": "[encoded data removed]",
      "text/plain": [
       "<Figure size 432x288 with 1 Axes>"
      ]
     },
     "metadata": {
      "needs_background": "light"
     },
     "output_type": "display_data"
    }
   ],
   "source": [
    "original_score=score\n",
    "p_value,per_scores=permutations_score(seq1, seq2,original_score)\n",
    "print(f\"The p-value is {p_value:.4f}\")\n",
    "\n",
    "plt.hist(per_scores, bins=50, alpha=0.75)\n",
    "plt.title('Histogram of Alignment Scores for Permutated Sequences')\n",
    "plt.xlabel('Score')\n",
    "plt.ylabel('Frequency')\n",
    "plt.show()"
   ]
  }
 ],
 "metadata": {
  "kernelspec": {
   "display_name": "Python 3 (ipykernel)",
   "language": "python",
   "name": "python3"
  },
  "language_info": {
   "codemirror_mode": {
    "name": "ipython",
    "version": 3
   },
   "file_extension": ".py",
   "mimetype": "text/x-python",
   "name": "python",
   "nbconvert_exporter": "python",
   "pygments_lexer": "ipython3",
   "version": "3.9.2"
  }
 },
 "nbformat": 4,
 "nbformat_minor": 5
}
